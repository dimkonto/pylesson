{
 "cells": [
  {
   "cell_type": "code",
   "execution_count": 29,
   "metadata": {},
   "outputs": [
    {
     "name": "stdout",
     "output_type": "stream",
     "text": [
      "[[ 4 16  5 21  7]\n",
      " [28  9 38 13 51]\n",
      " [17 67 22 40 30]\n",
      " [20 40 10  3 13]\n",
      " [21 34 48 29 26]]\n"
     ]
    }
   ],
   "source": [
    "from numpy import *\n",
    "a=array([[4,16,5,21,7],[28,9,38,13,51],[17,67,22,40,30],[20,40,10,3,13],[21,34,48,29,26]])\n",
    "print(a)"
   ]
  },
  {
   "cell_type": "code",
   "execution_count": 30,
   "metadata": {},
   "outputs": [
    {
     "name": "stdout",
     "output_type": "stream",
     "text": [
      "[ 0.  0.  0.  0.  0.]\n",
      "[ 0.  0.  0.  0.  0.]\n"
     ]
    }
   ],
   "source": [
    "totalsum=0\n",
    "row=zeros(a.shape[0])\n",
    "col=zeros(a.shape[1])\n",
    "\n",
    "print (row)\n",
    "print (col)\n"
   ]
  },
  {
   "cell_type": "code",
   "execution_count": 31,
   "metadata": {},
   "outputs": [
    {
     "name": "stdout",
     "output_type": "stream",
     "text": [
      "612\n",
      "[  53.  139.  176.   86.  158.]\n",
      "[  90.  166.  123.  106.  127.]\n"
     ]
    }
   ],
   "source": [
    "for i in range (a.shape[0]):\n",
    "    for j in range (a.shape[1]):\n",
    "        totalsum=totalsum+a[i][j]\n",
    "        row[i]=row[i]+a[i][j]\n",
    "        col[j]=col[j]+a[i][j]\n",
    "print(totalsum)\n",
    "print(row)\n",
    "print(col)"
   ]
  },
  {
   "cell_type": "code",
   "execution_count": null,
   "metadata": {
    "collapsed": true
   },
   "outputs": [],
   "source": []
  }
 ],
 "metadata": {
  "kernelspec": {
   "display_name": "Python 3",
   "language": "python",
   "name": "python3"
  },
  "language_info": {
   "codemirror_mode": {
    "name": "ipython",
    "version": 3
   },
   "file_extension": ".py",
   "mimetype": "text/x-python",
   "name": "python",
   "nbconvert_exporter": "python",
   "pygments_lexer": "ipython3",
   "version": "3.6.3"
  }
 },
 "nbformat": 4,
 "nbformat_minor": 2
}
